{
 "cells": [
  {
   "cell_type": "markdown",
   "id": "cc98fa89-fd6a-4d8f-8c17-0f38973a69d6",
   "metadata": {},
   "source": [
    "# Practica ML"
   ]
  },
  {
   "cell_type": "markdown",
   "id": "9035dacd-08f0-4420-b725-7bac3f8f0888",
   "metadata": {},
   "source": [
    "\n",
    "# Importació de les llibreries\n",
    "Per a importar i poder fer referència a les distintes funcions de les llibreries hem d'executar les següents comandes:"
   ]
  },
  {
   "cell_type": "code",
   "execution_count": 61,
   "id": "bf204ca4-72f5-4eec-8969-64b988fef74b",
   "metadata": {},
   "outputs": [],
   "source": [
    "import numpy as np\n",
    "import pandas as pd\n",
    "import matplotlib.pyplot as plt\n",
    "import seaborn as sns\n",
    "from sklearn.preprocessing import OneHotEncoder"
   ]
  },
  {
   "cell_type": "markdown",
   "id": "e01bcd53-bcb0-4fd2-abe2-40aa5412d5c1",
   "metadata": {
    "tags": []
   },
   "source": [
    "# Anàlisi de dades\n"
   ]
  },
  {
   "cell_type": "markdown",
   "id": "7e70c1ed-ecb4-45dc-bb98-d77314a3fa19",
   "metadata": {},
   "source": [
    "#### Carregues Datasets\n"
   ]
  },
  {
   "cell_type": "markdown",
   "id": "17d7c2d5-b3e2-48fc-94ab-8bc8350cdf80",
   "metadata": {},
   "source": [
    "Carregam el dataset de vi tint a un dataframe a partir del fitxer csv: \"winequality-red.csv\" i cream un valor fixe del tipus vi, en aquest cas, \"tinto\"."
   ]
  },
  {
   "cell_type": "code",
   "execution_count": 89,
   "id": "c1708b89-8ebd-4511-bb27-03e1c8c903c9",
   "metadata": {},
   "outputs": [
    {
     "data": {
      "text/html": [
       "<div>\n",
       "<style scoped>\n",
       "    .dataframe tbody tr th:only-of-type {\n",
       "        vertical-align: middle;\n",
       "    }\n",
       "\n",
       "    .dataframe tbody tr th {\n",
       "        vertical-align: top;\n",
       "    }\n",
       "\n",
       "    .dataframe thead th {\n",
       "        text-align: right;\n",
       "    }\n",
       "</style>\n",
       "<table border=\"1\" class=\"dataframe\">\n",
       "  <thead>\n",
       "    <tr style=\"text-align: right;\">\n",
       "      <th></th>\n",
       "      <th>fixed acidity</th>\n",
       "      <th>volatile acidity</th>\n",
       "      <th>citric acid</th>\n",
       "      <th>residual sugar</th>\n",
       "      <th>chlorides</th>\n",
       "      <th>free sulfur dioxide</th>\n",
       "      <th>total sulfur dioxide</th>\n",
       "      <th>density</th>\n",
       "      <th>pH</th>\n",
       "      <th>sulphates</th>\n",
       "      <th>alcohol</th>\n",
       "      <th>quality</th>\n",
       "      <th>type</th>\n",
       "    </tr>\n",
       "  </thead>\n",
       "  <tbody>\n",
       "    <tr>\n",
       "      <th>0</th>\n",
       "      <td>7.4</td>\n",
       "      <td>0.70</td>\n",
       "      <td>0.00</td>\n",
       "      <td>1.9</td>\n",
       "      <td>0.076</td>\n",
       "      <td>11.0</td>\n",
       "      <td>34.0</td>\n",
       "      <td>0.9978</td>\n",
       "      <td>3.51</td>\n",
       "      <td>0.56</td>\n",
       "      <td>9.4</td>\n",
       "      <td>5</td>\n",
       "      <td>tinto</td>\n",
       "    </tr>\n",
       "    <tr>\n",
       "      <th>1</th>\n",
       "      <td>7.8</td>\n",
       "      <td>0.88</td>\n",
       "      <td>0.00</td>\n",
       "      <td>2.6</td>\n",
       "      <td>0.098</td>\n",
       "      <td>25.0</td>\n",
       "      <td>67.0</td>\n",
       "      <td>0.9968</td>\n",
       "      <td>3.20</td>\n",
       "      <td>0.68</td>\n",
       "      <td>9.8</td>\n",
       "      <td>5</td>\n",
       "      <td>tinto</td>\n",
       "    </tr>\n",
       "    <tr>\n",
       "      <th>2</th>\n",
       "      <td>7.8</td>\n",
       "      <td>0.76</td>\n",
       "      <td>0.04</td>\n",
       "      <td>2.3</td>\n",
       "      <td>0.092</td>\n",
       "      <td>15.0</td>\n",
       "      <td>54.0</td>\n",
       "      <td>0.9970</td>\n",
       "      <td>3.26</td>\n",
       "      <td>0.65</td>\n",
       "      <td>9.8</td>\n",
       "      <td>5</td>\n",
       "      <td>tinto</td>\n",
       "    </tr>\n",
       "    <tr>\n",
       "      <th>3</th>\n",
       "      <td>11.2</td>\n",
       "      <td>0.28</td>\n",
       "      <td>0.56</td>\n",
       "      <td>1.9</td>\n",
       "      <td>0.075</td>\n",
       "      <td>17.0</td>\n",
       "      <td>60.0</td>\n",
       "      <td>0.9980</td>\n",
       "      <td>3.16</td>\n",
       "      <td>0.58</td>\n",
       "      <td>9.8</td>\n",
       "      <td>6</td>\n",
       "      <td>tinto</td>\n",
       "    </tr>\n",
       "    <tr>\n",
       "      <th>4</th>\n",
       "      <td>7.4</td>\n",
       "      <td>0.70</td>\n",
       "      <td>0.00</td>\n",
       "      <td>1.9</td>\n",
       "      <td>0.076</td>\n",
       "      <td>11.0</td>\n",
       "      <td>34.0</td>\n",
       "      <td>0.9978</td>\n",
       "      <td>3.51</td>\n",
       "      <td>0.56</td>\n",
       "      <td>9.4</td>\n",
       "      <td>5</td>\n",
       "      <td>tinto</td>\n",
       "    </tr>\n",
       "  </tbody>\n",
       "</table>\n",
       "</div>"
      ],
      "text/plain": [
       "   fixed acidity  volatile acidity  citric acid  residual sugar  chlorides  \\\n",
       "0            7.4              0.70         0.00             1.9      0.076   \n",
       "1            7.8              0.88         0.00             2.6      0.098   \n",
       "2            7.8              0.76         0.04             2.3      0.092   \n",
       "3           11.2              0.28         0.56             1.9      0.075   \n",
       "4            7.4              0.70         0.00             1.9      0.076   \n",
       "\n",
       "   free sulfur dioxide  total sulfur dioxide  density    pH  sulphates  \\\n",
       "0                 11.0                  34.0   0.9978  3.51       0.56   \n",
       "1                 25.0                  67.0   0.9968  3.20       0.68   \n",
       "2                 15.0                  54.0   0.9970  3.26       0.65   \n",
       "3                 17.0                  60.0   0.9980  3.16       0.58   \n",
       "4                 11.0                  34.0   0.9978  3.51       0.56   \n",
       "\n",
       "   alcohol  quality   type  \n",
       "0      9.4        5  tinto  \n",
       "1      9.8        5  tinto  \n",
       "2      9.8        5  tinto  \n",
       "3      9.8        6  tinto  \n",
       "4      9.4        5  tinto  "
      ]
     },
     "execution_count": 89,
     "metadata": {},
     "output_type": "execute_result"
    },
    {
     "name": "stdout",
     "output_type": "stream",
     "text": [
      "ERROR! Session/line number was not unique in database. History logging moved to new session 6\n"
     ]
    }
   ],
   "source": [
    "tinto = pd.read_csv('winequality-red.csv', sep = ';')\n",
    "tinto[\"type\"] = \"tinto\" \n",
    "tinto.head()"
   ]
  },
  {
   "cell_type": "markdown",
   "id": "ad343a22-09a5-42dc-9dfb-fa70433d1e4a",
   "metadata": {},
   "source": [
    "Feim el mateix amb el dataset del vi blanc, amb el fitxer csv: \"winequality-white.csv\" i cream un valor fixe del tipus vi, en aquest cas, \"blanc\"."
   ]
  },
  {
   "cell_type": "code",
   "execution_count": 90,
   "id": "c1d0bcf0-293d-437e-a41c-9d2a509951d7",
   "metadata": {},
   "outputs": [
    {
     "data": {
      "text/html": [
       "<div>\n",
       "<style scoped>\n",
       "    .dataframe tbody tr th:only-of-type {\n",
       "        vertical-align: middle;\n",
       "    }\n",
       "\n",
       "    .dataframe tbody tr th {\n",
       "        vertical-align: top;\n",
       "    }\n",
       "\n",
       "    .dataframe thead th {\n",
       "        text-align: right;\n",
       "    }\n",
       "</style>\n",
       "<table border=\"1\" class=\"dataframe\">\n",
       "  <thead>\n",
       "    <tr style=\"text-align: right;\">\n",
       "      <th></th>\n",
       "      <th>fixed acidity</th>\n",
       "      <th>volatile acidity</th>\n",
       "      <th>citric acid</th>\n",
       "      <th>residual sugar</th>\n",
       "      <th>chlorides</th>\n",
       "      <th>free sulfur dioxide</th>\n",
       "      <th>total sulfur dioxide</th>\n",
       "      <th>density</th>\n",
       "      <th>pH</th>\n",
       "      <th>sulphates</th>\n",
       "      <th>alcohol</th>\n",
       "      <th>quality</th>\n",
       "      <th>type</th>\n",
       "    </tr>\n",
       "  </thead>\n",
       "  <tbody>\n",
       "    <tr>\n",
       "      <th>0</th>\n",
       "      <td>7.0</td>\n",
       "      <td>0.27</td>\n",
       "      <td>0.36</td>\n",
       "      <td>20.7</td>\n",
       "      <td>0.045</td>\n",
       "      <td>45.0</td>\n",
       "      <td>170.0</td>\n",
       "      <td>1.0010</td>\n",
       "      <td>3.00</td>\n",
       "      <td>0.45</td>\n",
       "      <td>8.8</td>\n",
       "      <td>6</td>\n",
       "      <td>blanc</td>\n",
       "    </tr>\n",
       "    <tr>\n",
       "      <th>1</th>\n",
       "      <td>6.3</td>\n",
       "      <td>0.30</td>\n",
       "      <td>0.34</td>\n",
       "      <td>1.6</td>\n",
       "      <td>0.049</td>\n",
       "      <td>14.0</td>\n",
       "      <td>132.0</td>\n",
       "      <td>0.9940</td>\n",
       "      <td>3.30</td>\n",
       "      <td>0.49</td>\n",
       "      <td>9.5</td>\n",
       "      <td>6</td>\n",
       "      <td>blanc</td>\n",
       "    </tr>\n",
       "    <tr>\n",
       "      <th>2</th>\n",
       "      <td>8.1</td>\n",
       "      <td>0.28</td>\n",
       "      <td>0.40</td>\n",
       "      <td>6.9</td>\n",
       "      <td>0.050</td>\n",
       "      <td>30.0</td>\n",
       "      <td>97.0</td>\n",
       "      <td>0.9951</td>\n",
       "      <td>3.26</td>\n",
       "      <td>0.44</td>\n",
       "      <td>10.1</td>\n",
       "      <td>6</td>\n",
       "      <td>blanc</td>\n",
       "    </tr>\n",
       "    <tr>\n",
       "      <th>3</th>\n",
       "      <td>7.2</td>\n",
       "      <td>0.23</td>\n",
       "      <td>0.32</td>\n",
       "      <td>8.5</td>\n",
       "      <td>0.058</td>\n",
       "      <td>47.0</td>\n",
       "      <td>186.0</td>\n",
       "      <td>0.9956</td>\n",
       "      <td>3.19</td>\n",
       "      <td>0.40</td>\n",
       "      <td>9.9</td>\n",
       "      <td>6</td>\n",
       "      <td>blanc</td>\n",
       "    </tr>\n",
       "    <tr>\n",
       "      <th>4</th>\n",
       "      <td>7.2</td>\n",
       "      <td>0.23</td>\n",
       "      <td>0.32</td>\n",
       "      <td>8.5</td>\n",
       "      <td>0.058</td>\n",
       "      <td>47.0</td>\n",
       "      <td>186.0</td>\n",
       "      <td>0.9956</td>\n",
       "      <td>3.19</td>\n",
       "      <td>0.40</td>\n",
       "      <td>9.9</td>\n",
       "      <td>6</td>\n",
       "      <td>blanc</td>\n",
       "    </tr>\n",
       "  </tbody>\n",
       "</table>\n",
       "</div>"
      ],
      "text/plain": [
       "   fixed acidity  volatile acidity  citric acid  residual sugar  chlorides  \\\n",
       "0            7.0              0.27         0.36            20.7      0.045   \n",
       "1            6.3              0.30         0.34             1.6      0.049   \n",
       "2            8.1              0.28         0.40             6.9      0.050   \n",
       "3            7.2              0.23         0.32             8.5      0.058   \n",
       "4            7.2              0.23         0.32             8.5      0.058   \n",
       "\n",
       "   free sulfur dioxide  total sulfur dioxide  density    pH  sulphates  \\\n",
       "0                 45.0                 170.0   1.0010  3.00       0.45   \n",
       "1                 14.0                 132.0   0.9940  3.30       0.49   \n",
       "2                 30.0                  97.0   0.9951  3.26       0.44   \n",
       "3                 47.0                 186.0   0.9956  3.19       0.40   \n",
       "4                 47.0                 186.0   0.9956  3.19       0.40   \n",
       "\n",
       "   alcohol  quality   type  \n",
       "0      8.8        6  blanc  \n",
       "1      9.5        6  blanc  \n",
       "2     10.1        6  blanc  \n",
       "3      9.9        6  blanc  \n",
       "4      9.9        6  blanc  "
      ]
     },
     "execution_count": 90,
     "metadata": {},
     "output_type": "execute_result"
    }
   ],
   "source": [
    "blanc = pd.read_csv('winequality-white.csv', sep = ';')\n",
    "blanc[\"type\"] = \"blanc\" \n",
    "blanc.head()"
   ]
  },
  {
   "cell_type": "markdown",
   "id": "a71390c0-a9c6-41f8-b803-3da007a491bf",
   "metadata": {},
   "source": [
    "En aquest apartat juntarem els dos datasets en un i transformarem tots els valors a númerics per a que aixi es pugui fer una comparació entre ells.\n",
    "\n",
    "\n",
    "Juntam els dos datasets 'blanc' i 'tinto' dins vins"
   ]
  },
  {
   "cell_type": "code",
   "execution_count": 91,
   "id": "35106237-68cf-4170-a846-2a0864248b4d",
   "metadata": {},
   "outputs": [
    {
     "data": {
      "text/html": [
       "<div>\n",
       "<style scoped>\n",
       "    .dataframe tbody tr th:only-of-type {\n",
       "        vertical-align: middle;\n",
       "    }\n",
       "\n",
       "    .dataframe tbody tr th {\n",
       "        vertical-align: top;\n",
       "    }\n",
       "\n",
       "    .dataframe thead th {\n",
       "        text-align: right;\n",
       "    }\n",
       "</style>\n",
       "<table border=\"1\" class=\"dataframe\">\n",
       "  <thead>\n",
       "    <tr style=\"text-align: right;\">\n",
       "      <th></th>\n",
       "      <th>fixed acidity</th>\n",
       "      <th>volatile acidity</th>\n",
       "      <th>citric acid</th>\n",
       "      <th>residual sugar</th>\n",
       "      <th>chlorides</th>\n",
       "      <th>free sulfur dioxide</th>\n",
       "      <th>total sulfur dioxide</th>\n",
       "      <th>density</th>\n",
       "      <th>pH</th>\n",
       "      <th>sulphates</th>\n",
       "      <th>alcohol</th>\n",
       "      <th>quality</th>\n",
       "      <th>type</th>\n",
       "    </tr>\n",
       "  </thead>\n",
       "  <tbody>\n",
       "    <tr>\n",
       "      <th>0</th>\n",
       "      <td>7.0</td>\n",
       "      <td>0.27</td>\n",
       "      <td>0.36</td>\n",
       "      <td>20.7</td>\n",
       "      <td>0.045</td>\n",
       "      <td>45.0</td>\n",
       "      <td>170.0</td>\n",
       "      <td>1.0010</td>\n",
       "      <td>3.00</td>\n",
       "      <td>0.45</td>\n",
       "      <td>8.8</td>\n",
       "      <td>6</td>\n",
       "      <td>blanc</td>\n",
       "    </tr>\n",
       "    <tr>\n",
       "      <th>1</th>\n",
       "      <td>6.3</td>\n",
       "      <td>0.30</td>\n",
       "      <td>0.34</td>\n",
       "      <td>1.6</td>\n",
       "      <td>0.049</td>\n",
       "      <td>14.0</td>\n",
       "      <td>132.0</td>\n",
       "      <td>0.9940</td>\n",
       "      <td>3.30</td>\n",
       "      <td>0.49</td>\n",
       "      <td>9.5</td>\n",
       "      <td>6</td>\n",
       "      <td>blanc</td>\n",
       "    </tr>\n",
       "    <tr>\n",
       "      <th>2</th>\n",
       "      <td>8.1</td>\n",
       "      <td>0.28</td>\n",
       "      <td>0.40</td>\n",
       "      <td>6.9</td>\n",
       "      <td>0.050</td>\n",
       "      <td>30.0</td>\n",
       "      <td>97.0</td>\n",
       "      <td>0.9951</td>\n",
       "      <td>3.26</td>\n",
       "      <td>0.44</td>\n",
       "      <td>10.1</td>\n",
       "      <td>6</td>\n",
       "      <td>blanc</td>\n",
       "    </tr>\n",
       "    <tr>\n",
       "      <th>3</th>\n",
       "      <td>7.2</td>\n",
       "      <td>0.23</td>\n",
       "      <td>0.32</td>\n",
       "      <td>8.5</td>\n",
       "      <td>0.058</td>\n",
       "      <td>47.0</td>\n",
       "      <td>186.0</td>\n",
       "      <td>0.9956</td>\n",
       "      <td>3.19</td>\n",
       "      <td>0.40</td>\n",
       "      <td>9.9</td>\n",
       "      <td>6</td>\n",
       "      <td>blanc</td>\n",
       "    </tr>\n",
       "    <tr>\n",
       "      <th>4</th>\n",
       "      <td>7.2</td>\n",
       "      <td>0.23</td>\n",
       "      <td>0.32</td>\n",
       "      <td>8.5</td>\n",
       "      <td>0.058</td>\n",
       "      <td>47.0</td>\n",
       "      <td>186.0</td>\n",
       "      <td>0.9956</td>\n",
       "      <td>3.19</td>\n",
       "      <td>0.40</td>\n",
       "      <td>9.9</td>\n",
       "      <td>6</td>\n",
       "      <td>blanc</td>\n",
       "    </tr>\n",
       "  </tbody>\n",
       "</table>\n",
       "</div>"
      ],
      "text/plain": [
       "   fixed acidity  volatile acidity  citric acid  residual sugar  chlorides  \\\n",
       "0            7.0              0.27         0.36            20.7      0.045   \n",
       "1            6.3              0.30         0.34             1.6      0.049   \n",
       "2            8.1              0.28         0.40             6.9      0.050   \n",
       "3            7.2              0.23         0.32             8.5      0.058   \n",
       "4            7.2              0.23         0.32             8.5      0.058   \n",
       "\n",
       "   free sulfur dioxide  total sulfur dioxide  density    pH  sulphates  \\\n",
       "0                 45.0                 170.0   1.0010  3.00       0.45   \n",
       "1                 14.0                 132.0   0.9940  3.30       0.49   \n",
       "2                 30.0                  97.0   0.9951  3.26       0.44   \n",
       "3                 47.0                 186.0   0.9956  3.19       0.40   \n",
       "4                 47.0                 186.0   0.9956  3.19       0.40   \n",
       "\n",
       "   alcohol  quality   type  \n",
       "0      8.8        6  blanc  \n",
       "1      9.5        6  blanc  \n",
       "2     10.1        6  blanc  \n",
       "3      9.9        6  blanc  \n",
       "4      9.9        6  blanc  "
      ]
     },
     "execution_count": 91,
     "metadata": {},
     "output_type": "execute_result"
    }
   ],
   "source": [
    "vins = pd.concat([blanc, tinto])\n",
    "vins.head()"
   ]
  },
  {
   "cell_type": "markdown",
   "id": "02b7cc09-090c-4222-97d3-68b6d0673c8f",
   "metadata": {},
   "source": [
    "#### Exploracio Datasets\n",
    "En aquest apartat farem una exploració del conjunt de dades."
   ]
  },
  {
   "cell_type": "markdown",
   "id": "df81cded-633f-4a5b-80ab-47f886962708",
   "metadata": {
    "tags": []
   },
   "source": [
    "##### Quality\n",
    "\n",
    "A continuació mostram els vins segons la seva qualitat, com podem veure, hi ha una gran diferencia entre el número de mostres d'una qualitat i una altra, això, a la hora de la predicció dels algorismes podria afectar degut a que podrà tenir massa poques mostres de qualcunes qualitats."
   ]
  },
  {
   "cell_type": "code",
   "execution_count": 10,
   "id": "723fa8dc-6972-4d7f-bf0b-949bcd7f6e46",
   "metadata": {
    "tags": []
   },
   "outputs": [
    {
     "data": {
      "text/plain": [
       "<AxesSubplot:xlabel='quality', ylabel='count'>"
      ]
     },
     "execution_count": 10,
     "metadata": {},
     "output_type": "execute_result"
    },
    {
     "data": {
      "image/png": "[encoded data removed]",
      "text/plain": [
       "<Figure size 432x288 with 1 Axes>"
      ]
     },
     "metadata": {
      "needs_background": "light"
     },
     "output_type": "display_data"
    }
   ],
   "source": [
    "sns.countplot(x='quality', data=vins)"
   ]
  },
  {
   "cell_type": "markdown",
   "id": "eaa1916d-64d1-449b-8c89-605f414382a5",
   "metadata": {},
   "source": [
    "Per veure millor l'estat de cada qualitat mostrarem una taula"
   ]
  },
  {
   "cell_type": "code",
   "execution_count": 19,
   "id": "53250fd6-ef76-41c2-a0b2-1108c5446935",
   "metadata": {},
   "outputs": [
    {
     "data": {
      "text/html": [
       "<div>\n",
       "<style scoped>\n",
       "    .dataframe tbody tr th:only-of-type {\n",
       "        vertical-align: middle;\n",
       "    }\n",
       "\n",
       "    .dataframe tbody tr th {\n",
       "        vertical-align: top;\n",
       "    }\n",
       "\n",
       "    .dataframe thead th {\n",
       "        text-align: right;\n",
       "    }\n",
       "</style>\n",
       "<table border=\"1\" class=\"dataframe\">\n",
       "  <thead>\n",
       "    <tr style=\"text-align: right;\">\n",
       "      <th></th>\n",
       "      <th>Count</th>\n",
       "      <th>Proporcio</th>\n",
       "    </tr>\n",
       "  </thead>\n",
       "  <tbody>\n",
       "    <tr>\n",
       "      <th>6</th>\n",
       "      <td>2836</td>\n",
       "      <td>0.436509</td>\n",
       "    </tr>\n",
       "    <tr>\n",
       "      <th>5</th>\n",
       "      <td>2138</td>\n",
       "      <td>0.329075</td>\n",
       "    </tr>\n",
       "    <tr>\n",
       "      <th>7</th>\n",
       "      <td>1079</td>\n",
       "      <td>0.166077</td>\n",
       "    </tr>\n",
       "    <tr>\n",
       "      <th>4</th>\n",
       "      <td>216</td>\n",
       "      <td>0.033246</td>\n",
       "    </tr>\n",
       "    <tr>\n",
       "      <th>8</th>\n",
       "      <td>193</td>\n",
       "      <td>0.029706</td>\n",
       "    </tr>\n",
       "    <tr>\n",
       "      <th>3</th>\n",
       "      <td>30</td>\n",
       "      <td>0.004618</td>\n",
       "    </tr>\n",
       "    <tr>\n",
       "      <th>9</th>\n",
       "      <td>5</td>\n",
       "      <td>0.000770</td>\n",
       "    </tr>\n",
       "  </tbody>\n",
       "</table>\n",
       "</div>"
      ],
      "text/plain": [
       "   Count  Proporcio\n",
       "6   2836   0.436509\n",
       "5   2138   0.329075\n",
       "7   1079   0.166077\n",
       "4    216   0.033246\n",
       "8    193   0.029706\n",
       "3     30   0.004618\n",
       "9      5   0.000770"
      ]
     },
     "execution_count": 19,
     "metadata": {},
     "output_type": "execute_result"
    }
   ],
   "source": [
    "# Proporcio de cada clase\n",
    "pd.DataFrame(vins[\"quality\"].value_counts(), vins[\"quality\"].value_counts(normalize=True), columns=[\"Count\", \"Proportion\"])\n",
    "pd.concat(\n",
    "    [\n",
    "        vins[\"quality\"].value_counts().rename('Count'),\n",
    "        vins[\"quality\"].value_counts(normalize=True).rename('Proporcio'),\n",
    "    ],\n",
    "    axis=1)"
   ]
  },
  {
   "cell_type": "markdown",
   "id": "ca3d82ba-2879-452b-ad5f-188a6cea0dd7",
   "metadata": {},
   "source": [
    "Tenim dues qualitats amb molt baixa representació:\n",
    "* **3:** 30 mostres - menys d'un 1 percent de la mostra total\n",
    "* **9:** 5 mostres - menys d'un 0.1 percent de la mostra total\n",
    "\n",
    "Algunes solucions proposadas en <a href=\"https://machinelearningmastery.com/tactics-to-combat-imbalanced-classes-in-your-machine-learning-dataset/\">aquest post d'Internet</a> son:\n",
    "* **Oversampling:** crea noves mostres duplicant o de manera sintetica\n",
    "* **Undersampling:** reduir les mostres de les clases amb mes representació\n",
    "\n",
    "Per ara no farem res, depenguent del resultats dels models prendrem una decisio."
   ]
  },
  {
   "cell_type": "markdown",
   "id": "09e6c839-b915-4180-8ee7-90818e20a0c4",
   "metadata": {},
   "source": [
    "##### Variables categóricas"
   ]
  },
  {
   "cell_type": "code",
   "execution_count": 31,
   "id": "a847bd5f-bcb3-46da-abca-7c52b92e27c0",
   "metadata": {},
   "outputs": [
    {
     "data": {
      "text/plain": [
       "<AxesSubplot:xlabel='type', ylabel='count'>"
      ]
     },
     "execution_count": 34,
     "metadata": {},
     "output_type": "execute_result"
    },
    {
     "data": {
      "image/png": "[encoded data removed]",
      "text/plain": [
       "<Figure size 842.4x595.44 with 1 Axes>"
      ]
     },
     "metadata": {
      "needs_background": "light"
     },
     "output_type": "display_data"
    }
   ],
   "source": [
    "_, ax = plt.subplots(figsize=(11.7, 8.27))\n",
    "sns.countplot(x=\"type\", hue=\"quality\", data=vins, ax=ax)\n",
    "fig.plt()"
   ]
  },
  {
   "cell_type": "code",
   "execution_count": 35,
   "id": "cb3d8f9a-b01a-416e-bdd7-3115bf681607",
   "metadata": {},
   "outputs": [
    {
     "data": {
      "text/plain": [
       "blanc    4898\n",
       "tinto    1599\n",
       "Name: type, dtype: int64"
      ]
     },
     "execution_count": 35,
     "metadata": {},
     "output_type": "execute_result"
    }
   ],
   "source": [
    "vins.type.value_counts()"
   ]
  },
  {
   "cell_type": "markdown",
   "id": "23732844-ecaf-4e5b-94c8-c68678470b95",
   "metadata": {},
   "source": [
    "Conclusións d'aquest gráfic i taula:\n",
    "* Tenim ~2.5 vegades mes blancas que tintos\n",
    "* El vins de qualitat 6 dominen en la categoría de blancas\n",
    "* Per lo que respecta a tintos la lluita esta entre la qualitat 5 i 6\n",
    "\n",
    "Aquests dos darrers punts poden ser importants per el model. Per poder emprar aquesta variable tendrem que aplicar un OneHotEncoder."
   ]
  },
  {
   "cell_type": "markdown",
   "id": "c18b6741-7fa2-48c4-b6d0-7bf15e6a0c3c",
   "metadata": {},
   "source": [
    "##### Variables númericas"
   ]
  },
  {
   "cell_type": "code",
   "execution_count": 43,
   "id": "67a781ea-2408-4526-b36f-a538147656a6",
   "metadata": {},
   "outputs": [
    {
     "data": {
      "image/png": "[encoded data removed]",
      "text/plain": [
       "<Figure size 432x288 with 1 Axes>"
      ]
     },
     "metadata": {
      "needs_background": "light"
     },
     "output_type": "display_data"
    },
    {
     "data": {
      "image/png": "[encoded data removed]",
      "text/plain": [
       "<Figure size 432x288 with 1 Axes>"
      ]
     },
     "metadata": {
      "needs_background": "light"
     },
     "output_type": "display_data"
    },
    {
     "data": {
      "image/png": "[encoded data removed]",
      "text/plain": [
       "<Figure size 432x288 with 1 Axes>"
      ]
     },
     "metadata": {
      "needs_background": "light"
     },
     "output_type": "display_data"
    },
    {
     "data": {
      "image/png": "[encoded data removed]",
      "text/plain": [
       "<Figure size 432x288 with 1 Axes>"
      ]
     },
     "metadata": {
      "needs_background": "light"
     },
     "output_type": "display_data"
    },
    {
     "data": {
      "image/png": "[encoded data removed]",
      "text/plain": [
       "<Figure size 432x288 with 1 Axes>"
      ]
     },
     "metadata": {
      "needs_background": "light"
     },
     "output_type": "display_data"
    },
    {
     "data": {
      "image/png": "[encoded data removed]",
      "text/plain": [
       "<Figure size 432x288 with 1 Axes>"
      ]
     },
     "metadata": {
      "needs_background": "light"
     },
     "output_type": "display_data"
    },
    {
     "data": {
      "image/png": "[encoded data removed]",
      "text/plain": [
       "<Figure size 432x288 with 1 Axes>"
      ]
     },
     "metadata": {
      "needs_background": "light"
     },
     "output_type": "display_data"
    },
    {
     "data": {
      "image/png": "[encoded data removed]",
      "text/plain": [
       "<Figure size 432x288 with 1 Axes>"
      ]
     },
     "metadata": {
      "needs_background": "light"
     },
     "output_type": "display_data"
    },
    {
     "data": {
      "image/png": "[encoded data removed]",
      "text/plain": [
       "<Figure size 432x288 with 1 Axes>"
      ]
     },
     "metadata": {
      "needs_background": "light"
     },
     "output_type": "display_data"
    },
    {
     "data": {
      "image/png": "[encoded data removed]",
      "text/plain": [
       "<Figure size 432x288 with 1 Axes>"
      ]
     },
     "metadata": {
      "needs_background": "light"
     },
     "output_type": "display_data"
    },
    {
     "data": {
      "image/png": "[encoded data removed]",
      "text/plain": [
       "<Figure size 432x288 with 1 Axes>"
      ]
     },
     "metadata": {
      "needs_background": "light"
     },
     "output_type": "display_data"
    }
   ],
   "source": [
    "numeric_features = vins.select_dtypes(include=np.number).columns.tolist()\n",
    "numeric_features.remove(\"quality\")\n",
    "for feature in numeric_features:\n",
    "    # plt.figure(i)\n",
    "    plt.figure()\n",
    "    sns.barplot(x=\"quality\", y=feature, hue=\"type\", data=vins)"
   ]
  },
  {
   "cell_type": "markdown",
   "id": "a3819e93-ff90-4107-9ec2-71aae008d68a",
   "metadata": {
    "tags": []
   },
   "source": [
    "Podem veure la disparitat entre les característiques de cada vi segons el seu tipus, i com afecten aquestes a la valoració final de la qualitat. Un exemple es el de sulphates, on podem veure que el seu valor no afecta en la valoració de la qualitat dels vins blancs , pero si que ho fa de forma positiva amb els vins tints. També crida la atenció que cap vi tint aconsegueix tenir una valoració en la qualitat de 9. El fet d'haver separat els vins segons el tipus serà molt útil a la hora de la predicció dels algorismes, ja que si no s'hagués fet, es podria veure que l'algorisme tendria mes dificultats."
   ]
  },
  {
   "cell_type": "markdown",
   "id": "24fa03dc-1d71-4683-911b-ebc63ece054a",
   "metadata": {},
   "source": [
    "##### Outliers"
   ]
  },
  {
   "cell_type": "markdown",
   "id": "7e17c14e-3d62-4ef2-b6c6-19057db38134",
   "metadata": {},
   "source": [
    "A continuació mostrarem un boxplot que nos mostrarà si qualcuna de les nostres variables te valors extrems o ouliers"
   ]
  },
  {
   "cell_type": "code",
   "execution_count": 10,
   "id": "af334272-858d-45ff-bc87-7cfffc953187",
   "metadata": {},
   "outputs": [
    {
     "data": {
      "image/png": "[encoded data removed]",
      "text/plain": [
       "<Figure size 1440x504 with 1 Axes>"
      ]
     },
     "metadata": {
      "needs_background": "light"
     },
     "output_type": "display_data"
    }
   ],
   "source": [
    "vins.boxplot(figsize=(20,7))"
   ]
  },
  {
   "cell_type": "markdown",
   "id": "31d6f491-3fc8-4409-9a1d-3c5a60cab2da",
   "metadata": {},
   "source": [
    "Degut a la variacio en el rango de valores node podem veure be la distribució d'algunes variables."
   ]
  },
  {
   "cell_type": "code",
   "execution_count": 46,
   "id": "208510a5-90d5-446b-8b17-93d00b54f604",
   "metadata": {},
   "outputs": [
    {
     "data": {
      "text/plain": [
       "<AxesSubplot:>"
      ]
     },
     "execution_count": 46,
     "metadata": {},
     "output_type": "execute_result"
    },
    {
     "data": {
      "image/png": "[encoded data removed]",
      "text/plain": [
       "<Figure size 1440x504 with 1 Axes>"
      ]
     },
     "metadata": {
      "needs_background": "light"
     },
     "output_type": "display_data"
    }
   ],
   "source": [
    "vins.drop([\"total sulfur dioxide\", \"free sulfur dioxide\"], axis=1).boxplot(figsize=(20,7))"
   ]
  },
  {
   "cell_type": "markdown",
   "id": "86e7c3ae-c7fe-484c-970d-7e228a477439",
   "metadata": {},
   "source": [
    "Com a conclusions podem treure:\n",
    "* Tenim una serie de valors outliers. Destacan alguns en concret, com el valor ~65 en la variable residual sugar. Le variables amb més outliers son:\n",
    "    * fixed acidity\n",
    "    * residual sugar\n",
    "    * free sulfur dioxide \n",
    "    * total sulfur dioxide\n",
    "* Poca variacio en algunes variables"
   ]
  },
  {
   "cell_type": "markdown",
   "id": "ed6447bf-47d5-4e59-a9e3-46140a417a4c",
   "metadata": {
    "tags": []
   },
   "source": [
    "##### Taula de correlacions"
   ]
  },
  {
   "cell_type": "markdown",
   "id": "d231a3c2-ad5e-46ca-b961-78fe44ebd326",
   "metadata": {
    "tags": []
   },
   "source": [
    "Taula que mostra les correlacions entre cada característica del vi.\n",
    "Quan més allunyat de 0 es el valor, mes relació amb el posible valor d'una característica te. \n",
    "Si es negatiu el valor vol dir que la seva relació es inversa (quan un puja l'altre baixa) i sino es que es directa."
   ]
  },
  {
   "cell_type": "code",
   "execution_count": 56,
   "id": "961125a5-efb1-4936-8cee-b4e151601a87",
   "metadata": {
    "tags": []
   },
   "outputs": [
    {
     "data": {
      "text/plain": [
       "<AxesSubplot:>"
      ]
     },
     "execution_count": 56,
     "metadata": {},
     "output_type": "execute_result"
    },
    {
     "data": {
      "image/png": "[encoded data removed]",
      "text/plain": [
       "<Figure size 720x720 with 2 Axes>"
      ]
     },
     "metadata": {
      "needs_background": "light"
     },
     "output_type": "display_data"
    }
   ],
   "source": [
    "corr_df = vins.corr()\n",
    "plt.figure(figsize=(10,10))\n",
    "sns.heatmap(corr_df, annot=True)"
   ]
  },
  {
   "cell_type": "markdown",
   "id": "c726f839-b99f-40ef-ad1c-880fa6108560",
   "metadata": {},
   "source": [
    "Veim que quality te molta relacio amb alcohol i density. Per poder veure millor les variables molt correlacionadas aplciarem un filtre."
   ]
  },
  {
   "cell_type": "code",
   "execution_count": 59,
   "id": "c94f662f-0a5f-4573-a79b-50eca69fbc6c",
   "metadata": {},
   "outputs": [
    {
     "data": {
      "text/plain": [
       "<AxesSubplot:>"
      ]
     },
     "execution_count": 59,
     "metadata": {},
     "output_type": "execute_result"
    },
    {
     "data": {
      "image/png": "[encoded data removed]",
      "text/plain": [
       "<Figure size 720x720 with 2 Axes>"
      ]
     },
     "metadata": {
      "needs_background": "light"
     },
     "output_type": "display_data"
    }
   ],
   "source": [
    "plt.figure(figsize=(10,10))\n",
    "sns.heatmap(corr_df[(corr_df > 0.5) | (corr_df < -0.5)].fillna(0), annot=True)"
   ]
  },
  {
   "cell_type": "markdown",
   "id": "8639eadd-2cba-4275-a351-5412293475de",
   "metadata": {},
   "source": [
    "Veim una alte correlacio entre:\n",
    "* density - alcohol\n",
    "* density - residual sugar\n",
    "\n",
    "Aquesta relacio pot afectar depenent del model. Per ara no farem res. Mes endavant pot ser tenguqem que eliminar la variable density"
   ]
  },
  {
   "cell_type": "markdown",
   "id": "87b7aa3b-4b2f-43c5-aa8c-e88f7e48d8e2",
   "metadata": {},
   "source": [
    "# Preparació de les dades"
   ]
  },
  {
   "cell_type": "markdown",
   "id": "ab1d2185-83a9-4e63-b782-0a0028a01665",
   "metadata": {
    "tags": []
   },
   "source": [
    "#### Divisió train/test\n",
    "Ficam el 67% de los valors a Xtrain/Ytrain que seran els que utilitzarem per \"entrenar\" l'algorisme\n",
    "L'altre 33% serà el que intentarem prediu-re amb l'algorisme"
   ]
  },
  {
   "cell_type": "code",
   "execution_count": 92,
   "id": "10579161-0ffb-4170-a69a-f0c2486e5048",
   "metadata": {},
   "outputs": [],
   "source": [
    "from sklearn.model_selection import train_test_split\n",
    "\n",
    "y = vins[\"quality\"]\n",
    "X = vins.drop([\"quality\"], axis=1)\n",
    "\n",
    "X_train, X_test, y_train, y_test = train_test_split(X, y, test_size=0.33, random_state=42)"
   ]
  },
  {
   "cell_type": "markdown",
   "id": "efa6b53a-d19d-487e-bb02-17a436250902",
   "metadata": {
    "tags": []
   },
   "source": [
    "#### Preparacio Dades X"
   ]
  },
  {
   "cell_type": "markdown",
   "id": "b5c17374-61b2-4d07-95cf-3003c64a4eeb",
   "metadata": {},
   "source": [
    "Les transformacions a fer son:\n",
    "* Encodear la variable type. En aquest cas emprarem LabelEncoder perque tenim dues categories. En cas de tenirne mes i que aquestes no presentesin ordre empreraiam OneHotEncoder.\n",
    "* MinMaxScaler sobre les variables númericas"
   ]
  },
  {
   "cell_type": "code",
   "execution_count": 93,
   "id": "707c99e7-ecf2-4c6a-8cee-bed7f5101d30",
   "metadata": {},
   "outputs": [],
   "source": [
    "type_encoder = LabelEncoder()\n",
    "\n",
    "X_train[\"type\"] = type_encoder.fit_transform(X_train[\"type\"])\n",
    "X_test[\"type\"] = type_encoder.transform(X_test[\"type\"])"
   ]
  },
  {
   "cell_type": "code",
   "execution_count": 94,
   "id": "68d3558b-b879-4f18-8b1e-b42a6b388991",
   "metadata": {},
   "outputs": [
    {
     "data": {
      "text/html": [
       "<div>\n",
       "<style scoped>\n",
       "    .dataframe tbody tr th:only-of-type {\n",
       "        vertical-align: middle;\n",
       "    }\n",
       "\n",
       "    .dataframe tbody tr th {\n",
       "        vertical-align: top;\n",
       "    }\n",
       "\n",
       "    .dataframe thead th {\n",
       "        text-align: right;\n",
       "    }\n",
       "</style>\n",
       "<table border=\"1\" class=\"dataframe\">\n",
       "  <thead>\n",
       "    <tr style=\"text-align: right;\">\n",
       "      <th></th>\n",
       "      <th>fixed acidity</th>\n",
       "      <th>volatile acidity</th>\n",
       "      <th>citric acid</th>\n",
       "      <th>residual sugar</th>\n",
       "      <th>chlorides</th>\n",
       "      <th>free sulfur dioxide</th>\n",
       "      <th>total sulfur dioxide</th>\n",
       "      <th>density</th>\n",
       "      <th>pH</th>\n",
       "      <th>sulphates</th>\n",
       "      <th>alcohol</th>\n",
       "      <th>type</th>\n",
       "    </tr>\n",
       "  </thead>\n",
       "  <tbody>\n",
       "    <tr>\n",
       "      <th>1700</th>\n",
       "      <td>6.7</td>\n",
       "      <td>0.26</td>\n",
       "      <td>0.30</td>\n",
       "      <td>1.8</td>\n",
       "      <td>0.043</td>\n",
       "      <td>25.0</td>\n",
       "      <td>121.0</td>\n",
       "      <td>0.99440</td>\n",
       "      <td>3.44</td>\n",
       "      <td>0.61</td>\n",
       "      <td>10.2</td>\n",
       "      <td>0</td>\n",
       "    </tr>\n",
       "    <tr>\n",
       "      <th>301</th>\n",
       "      <td>11.1</td>\n",
       "      <td>0.18</td>\n",
       "      <td>0.48</td>\n",
       "      <td>1.5</td>\n",
       "      <td>0.068</td>\n",
       "      <td>7.0</td>\n",
       "      <td>15.0</td>\n",
       "      <td>0.99730</td>\n",
       "      <td>3.22</td>\n",
       "      <td>0.64</td>\n",
       "      <td>10.1</td>\n",
       "      <td>1</td>\n",
       "    </tr>\n",
       "    <tr>\n",
       "      <th>3340</th>\n",
       "      <td>6.2</td>\n",
       "      <td>0.30</td>\n",
       "      <td>0.31</td>\n",
       "      <td>1.2</td>\n",
       "      <td>0.048</td>\n",
       "      <td>19.0</td>\n",
       "      <td>125.0</td>\n",
       "      <td>0.98999</td>\n",
       "      <td>3.32</td>\n",
       "      <td>0.54</td>\n",
       "      <td>12.6</td>\n",
       "      <td>0</td>\n",
       "    </tr>\n",
       "    <tr>\n",
       "      <th>86</th>\n",
       "      <td>7.2</td>\n",
       "      <td>0.39</td>\n",
       "      <td>0.63</td>\n",
       "      <td>11.0</td>\n",
       "      <td>0.044</td>\n",
       "      <td>55.0</td>\n",
       "      <td>156.0</td>\n",
       "      <td>0.99740</td>\n",
       "      <td>3.09</td>\n",
       "      <td>0.44</td>\n",
       "      <td>8.7</td>\n",
       "      <td>0</td>\n",
       "    </tr>\n",
       "    <tr>\n",
       "      <th>689</th>\n",
       "      <td>8.1</td>\n",
       "      <td>0.38</td>\n",
       "      <td>0.48</td>\n",
       "      <td>1.8</td>\n",
       "      <td>0.157</td>\n",
       "      <td>5.0</td>\n",
       "      <td>17.0</td>\n",
       "      <td>0.99760</td>\n",
       "      <td>3.30</td>\n",
       "      <td>1.05</td>\n",
       "      <td>9.4</td>\n",
       "      <td>1</td>\n",
       "    </tr>\n",
       "  </tbody>\n",
       "</table>\n",
       "</div>"
      ],
      "text/plain": [
       "      fixed acidity  volatile acidity  citric acid  residual sugar  chlorides  \\\n",
       "1700            6.7              0.26         0.30             1.8      0.043   \n",
       "301            11.1              0.18         0.48             1.5      0.068   \n",
       "3340            6.2              0.30         0.31             1.2      0.048   \n",
       "86              7.2              0.39         0.63            11.0      0.044   \n",
       "689             8.1              0.38         0.48             1.8      0.157   \n",
       "\n",
       "      free sulfur dioxide  total sulfur dioxide  density    pH  sulphates  \\\n",
       "1700                 25.0                 121.0  0.99440  3.44       0.61   \n",
       "301                   7.0                  15.0  0.99730  3.22       0.64   \n",
       "3340                 19.0                 125.0  0.98999  3.32       0.54   \n",
       "86                   55.0                 156.0  0.99740  3.09       0.44   \n",
       "689                   5.0                  17.0  0.99760  3.30       1.05   \n",
       "\n",
       "      alcohol  type  \n",
       "1700     10.2     0  \n",
       "301      10.1     1  \n",
       "3340     12.6     0  \n",
       "86        8.7     0  \n",
       "689       9.4     1  "
      ]
     },
     "execution_count": 94,
     "metadata": {},
     "output_type": "execute_result"
    }
   ],
   "source": [
    "X_train.head()"
   ]
  },
  {
   "cell_type": "code",
   "execution_count": 95,
   "id": "d7a36ff6-f8f2-4b25-a50c-07b7923736ea",
   "metadata": {
    "tags": []
   },
   "outputs": [],
   "source": [
    "from sklearn import preprocessing\n",
    "\n",
    "min_max_scaler = preprocessing.MinMaxScaler()\n",
    "\n",
    "X_train = min_max_scaler.fit_transform(X_train)\n",
    "X_test = min_max_scaler.transform(X_test)"
   ]
  },
  {
   "cell_type": "code",
   "execution_count": 98,
   "id": "65873856-7bb7-4646-b94c-13f3b60fdced",
   "metadata": {},
   "outputs": [
    {
     "data": {
      "text/plain": [
       "array([0.23966942, 0.12      , 0.18072289, 0.03870968, 0.05175292,\n",
       "       0.16494845, 0.31900139, 0.3137678 , 0.61016949, 0.21714286,\n",
       "       0.31884058, 0.        ])"
      ]
     },
     "execution_count": 98,
     "metadata": {},
     "output_type": "execute_result"
    }
   ],
   "source": [
    "# Exemple del primer registre\n",
    "X_train[0]"
   ]
  },
  {
   "cell_type": "markdown",
   "id": "f29d71bc-ce48-4a4b-8c0e-c1b9a6b46a1d",
   "metadata": {
    "tags": []
   },
   "source": [
    "# Classificació «9 qualitats»"
   ]
  },
  {
   "cell_type": "markdown",
   "id": "667b37b1-f043-47cb-a1d9-54107dd27384",
   "metadata": {
    "tags": []
   },
   "source": [
    "## Regresió Logística"
   ]
  },
  {
   "cell_type": "code",
   "execution_count": 99,
   "id": "cddf9e5d-f71b-47c6-85e5-605368d40425",
   "metadata": {},
   "outputs": [],
   "source": [
    "from sklearn.linear_model import LogisticRegression\n",
    "\n",
    "clf = LogisticRegression(random_state=0, max_iter=1000).fit(X_train, y_train)\n",
    "y_hat = clf.predict(X_test)"
   ]
  },
  {
   "cell_type": "code",
   "execution_count": 100,
   "id": "24405a08-2e82-476a-aa20-cd9f37b07568",
   "metadata": {},
   "outputs": [
    {
     "name": "stdout",
     "output_type": "stream",
     "text": [
      "              precision    recall  f1-score   support\n",
      "\n",
      "           3       0.00      0.00      0.00         7\n",
      "           4       1.00      0.01      0.03        71\n",
      "           5       0.60      0.63      0.62       707\n",
      "           6       0.53      0.73      0.61       939\n",
      "           7       0.49      0.13      0.21       364\n",
      "           8       0.00      0.00      0.00        57\n",
      "\n",
      "    accuracy                           0.55      2145\n",
      "   macro avg       0.44      0.25      0.24      2145\n",
      "weighted avg       0.55      0.55      0.51      2145\n",
      "\n"
     ]
    }
   ],
   "source": [
    "from sklearn.metrics import classification_report\n",
    "\n",
    "print(classification_report(y_test, y_hat, zero_division=0))"
   ]
  },
  {
   "cell_type": "markdown",
   "id": "d00b4a7a-b6c6-4f0b-b6e6-6c5b2eb1308b",
   "metadata": {},
   "source": [
    "#### Anàlisi Resultats"
   ]
  },
  {
   "cell_type": "markdown",
   "id": "d58a8725-e6ef-47df-8ef4-e778589e1200",
   "metadata": {},
   "source": [
    "Per començar podem veure que els valors que tenen menys mostres no presenten prediccions i per tant el seu recall es 0, això es degut a que l'algorisme te menys \"training\" amb aquests resultats i es més dificil acertar ja que els confon amb altres valors\n",
    "En el cas de qualitat 4 veum que te una presició de 1 pero un recall quasi null, aixo vol dir que haura predit un o dos quatres i els dos ho eren, pero com que n'hi ha 71, vol dir que uns 69 o 70 no han estat predits correctament.\n",
    "També podem veure que a mesura que aumenta el nombre de mostres, el recall aumenta, això es degut a que com que te mes exemples, tendeix a predir mes els valors que ha vist mes, d'aqui l'alt recall. La precisió es mes baixa degut al mateix motiu, i es que predeix vins en aquelles qualitats que no hu son."
   ]
  },
  {
   "cell_type": "markdown",
   "id": "af542f4b-ab41-44ad-b3bb-c9f82b35e5aa",
   "metadata": {},
   "source": [
    "## Perceptró"
   ]
  },
  {
   "cell_type": "code",
   "execution_count": 104,
   "id": "f6f80139-228c-4ca6-846e-f7133c2cfc80",
   "metadata": {},
   "outputs": [],
   "source": [
    "from sklearn.linear_model import Perceptron\n",
    "clf = Perceptron(random_state=0).fit(X_train, y_train)\n",
    "y_hat = clf.predict(X_test)\n",
    "\n",
    "from sklearn.linear_model import Perceptron\n",
    "\n",
    "clf = Perceptron(random_state=0).fit(X_train, y_train)\n",
    "y_hat = clf.predict(X_test)\n",
    "\n",
    "print(classification_report(y_test, y_hat, zero_division=0))"
   ]
  },
  {
   "cell_type": "markdown",
   "id": "13181e9a-40a3-4c05-8d71-48540af18c0f",
   "metadata": {},
   "source": [
    "#### Anàlisi Resultats"
   ]
  },
  {
   "cell_type": "markdown",
   "id": "69cdefcb-ffe4-4275-aada-b735ef5c5a85",
   "metadata": {},
   "source": [
    "En el cas del perceptró podem veure que només prediu els dos valors amb més mostres, es por això que el seu recall es \n",
    "més elevat que en el cas anterior, el problema que te es que el seu % de predicció es més baix.\n",
    "Comparat amb el Logistic Regression podem dir que no ho millora ya que els seus weighted avg son menors en ambdós casos"
   ]
  },
  {
   "cell_type": "markdown",
   "id": "98b163aa-79af-490f-9bd6-de20678c0632",
   "metadata": {},
   "source": [
    "## Random Forest"
   ]
  },
  {
   "cell_type": "code",
   "execution_count": 17,
   "id": "5788157e-2f0e-4c28-9b00-ccc412e00e38",
   "metadata": {},
   "outputs": [
    {
     "name": "stdout",
     "output_type": "stream",
     "text": [
      "              precision    recall  f1-score   support\n",
      "\n",
      "           3       0.00      0.00      0.00         7\n",
      "           4       0.62      0.07      0.13        71\n",
      "           5       0.68      0.72      0.70       707\n",
      "           6       0.64      0.76      0.69       939\n",
      "           7       0.68      0.48      0.56       364\n",
      "           8       0.89      0.30      0.45        57\n",
      "\n",
      "    accuracy                           0.66      2145\n",
      "   macro avg       0.59      0.39      0.42      2145\n",
      "weighted avg       0.66      0.66      0.64      2145\n",
      "\n"
     ]
    }
   ],
   "source": [
    "from sklearn.ensemble import RandomForestClassifier\n",
    "clf = RandomForestClassifier(random_state=0).fit(X_train, y_train)\n",
    "y_hat = clf.predict(X_test)\n",
    "print(classification_report(y_test, y_hat,zero_division=0))"
   ]
  },
  {
   "cell_type": "markdown",
   "id": "9b6fb49c-67a6-4724-b557-d47daed349f4",
   "metadata": {},
   "source": [
    "#### Anàlisi Resultats"
   ]
  },
  {
   "cell_type": "markdown",
   "id": "98e2266e-e3b2-4f05-9cb9-d40918f881ff",
   "metadata": {},
   "source": [
    "En este cas podem veure que els valors de precisió son parescuts en totes les dades amb una mostra significativa,\n",
    "a més aquests son més elevats que amb els altres dos algorismes i venen acompanyats d'un alt recall, d'alla que el seu weighted avg sigui més alt. Aquest algorisme te un exit molt més alt a les mostres mes petites i aixo fa que les prediccions de totes les qualitats en general sigui més alta."
   ]
  },
  {
   "cell_type": "markdown",
   "id": "ed00f254-ca71-4ad9-bccc-526549ed739a",
   "metadata": {},
   "source": [
    "# Classificació «3 qualitats»"
   ]
  },
  {
   "cell_type": "markdown",
   "id": "85d3951d-e8df-4897-9399-453019658da9",
   "metadata": {},
   "source": [
    "#### Preparació dades"
   ]
  },
  {
   "cell_type": "markdown",
   "id": "449cda82-d196-43b3-876e-4ab9220debb5",
   "metadata": {},
   "source": [
    "Primer preparam les dades per que estiguin dividides en 3 qualitats\n",
    "Classificam la qualitat dels vins en bo(>=7), mitjà(6) i dolent(<=5)"
   ]
  },
  {
   "cell_type": "code",
   "execution_count": 18,
   "id": "7e1cae10-d987-4640-833b-27e7437ca3f6",
   "metadata": {},
   "outputs": [
    {
     "name": "stdout",
     "output_type": "stream",
     "text": [
      "      fixed acidity  volatile acidity  citric acid  residual sugar  chlorides  \\\n",
      "0               7.0             0.270         0.36            20.7      0.045   \n",
      "1               6.3             0.300         0.34             1.6      0.049   \n",
      "2               8.1             0.280         0.40             6.9      0.050   \n",
      "3               7.2             0.230         0.32             8.5      0.058   \n",
      "4               7.2             0.230         0.32             8.5      0.058   \n",
      "...             ...               ...          ...             ...        ...   \n",
      "1594            6.2             0.600         0.08             2.0      0.090   \n",
      "1595            5.9             0.550         0.10             2.2      0.062   \n",
      "1596            6.3             0.510         0.13             2.3      0.076   \n",
      "1597            5.9             0.645         0.12             2.0      0.075   \n",
      "1598            6.0             0.310         0.47             3.6      0.067   \n",
      "\n",
      "      free sulfur dioxide  total sulfur dioxide  density    pH  sulphates  \\\n",
      "0                    45.0                 170.0  1.00100  3.00       0.45   \n",
      "1                    14.0                 132.0  0.99400  3.30       0.49   \n",
      "2                    30.0                  97.0  0.99510  3.26       0.44   \n",
      "3                    47.0                 186.0  0.99560  3.19       0.40   \n",
      "4                    47.0                 186.0  0.99560  3.19       0.40   \n",
      "...                   ...                   ...      ...   ...        ...   \n",
      "1594                 32.0                  44.0  0.99490  3.45       0.58   \n",
      "1595                 39.0                  51.0  0.99512  3.52       0.76   \n",
      "1596                 29.0                  40.0  0.99574  3.42       0.75   \n",
      "1597                 32.0                  44.0  0.99547  3.57       0.71   \n",
      "1598                 18.0                  42.0  0.99549  3.39       0.66   \n",
      "\n",
      "      alcohol quality  type  \n",
      "0         8.8   mitja     0  \n",
      "1         9.5   mitja     0  \n",
      "2        10.1   mitja     0  \n",
      "3         9.9   mitja     0  \n",
      "4         9.9   mitja     0  \n",
      "...       ...     ...   ...  \n",
      "1594     10.5  dolent     1  \n",
      "1595     11.2   mitja     1  \n",
      "1596     11.0   mitja     1  \n",
      "1597     10.2  dolent     1  \n",
      "1598     11.0   mitja     1  \n",
      "\n",
      "[6497 rows x 13 columns]\n"
     ]
    }
   ],
   "source": [
    "bins = (2.5,5.5,6.5,9.5)\n",
    "group_names = ['dolent','mitja','bo']\n",
    "vins[\"quality\"] = pd.cut(vins[\"quality\"], bins = bins, labels = group_names)\n",
    "print(vins)"
   ]
  },
  {
   "cell_type": "markdown",
   "id": "23e98739-7946-4ccb-aac7-ab742c8561a6",
   "metadata": {
    "tags": []
   },
   "source": [
    "#### Divisió train/test"
   ]
  },
  {
   "cell_type": "markdown",
   "id": "38bb5e27-f366-4050-a9fd-873d0c384947",
   "metadata": {},
   "source": [
    "Asignam a 'y' la columna de \"quality\" y a 'x' les altres"
   ]
  },
  {
   "cell_type": "code",
   "execution_count": 19,
   "id": "6397e201-3f77-445a-bd88-0ca01c75760a",
   "metadata": {},
   "outputs": [],
   "source": [
    "y = vins[\"quality\"]\n",
    "X = vinsaux.values "
   ]
  },
  {
   "cell_type": "markdown",
   "id": "bd3c71b8-ad91-4f08-bbfc-27132edbc67f",
   "metadata": {},
   "source": [
    "Escalam les dades de X"
   ]
  },
  {
   "cell_type": "code",
   "execution_count": 20,
   "id": "3f0472ee-9b06-43b2-b289-ceb07fbf7ad0",
   "metadata": {},
   "outputs": [],
   "source": [
    "from sklearn import preprocessing\n",
    "min_max_scaler = preprocessing.MinMaxScaler()\n",
    "X = min_max_scaler.fit_transform(X)"
   ]
  },
  {
   "cell_type": "markdown",
   "id": "935c9e55-0f4c-4ec9-8407-9f3121cf9e15",
   "metadata": {},
   "source": [
    "Ficam el 67% de los valors a Xtrain/Ytrain que seran els que utilitzarem per \"entrenar\" l'algorisme\n",
    "L'altre 33% serà el que intentarem prediur-re amb l'algorisme"
   ]
  },
  {
   "cell_type": "code",
   "execution_count": 21,
   "id": "23f27c1a-0ce9-4624-8188-0ac538670c9f",
   "metadata": {},
   "outputs": [],
   "source": [
    "from sklearn.model_selection import train_test_split\n",
    "X_train, X_test, y_train, y_test = train_test_split(\n",
    "    X, y, test_size=0.33, random_state=42)"
   ]
  },
  {
   "cell_type": "markdown",
   "id": "a422240a-48a2-4a0c-b591-d989d85c7387",
   "metadata": {},
   "source": [
    "## Regresió Logística"
   ]
  },
  {
   "cell_type": "code",
   "execution_count": 22,
   "id": "ccf071a5-9c81-4d5e-9c49-bf4155529210",
   "metadata": {},
   "outputs": [
    {
     "name": "stdout",
     "output_type": "stream",
     "text": [
      "              precision    recall  f1-score   support\n",
      "\n",
      "          bo       0.59      0.26      0.36       421\n",
      "      dolent       0.65      0.67      0.66       785\n",
      "       mitja       0.53      0.66      0.59       939\n",
      "\n",
      "    accuracy                           0.58      2145\n",
      "   macro avg       0.59      0.53      0.54      2145\n",
      "weighted avg       0.59      0.58      0.57      2145\n",
      "\n"
     ]
    }
   ],
   "source": [
    "from sklearn.linear_model import LogisticRegression\n",
    "clf = LogisticRegression(random_state=0,max_iter=1000).fit(X_train, y_train)\n",
    "y_hat = clf.predict(X_test)\n",
    "from sklearn.metrics import classification_report\n",
    "print(classification_report(y_test, y_hat,zero_division=0))\n"
   ]
  },
  {
   "cell_type": "markdown",
   "id": "6ad980e0-84ca-45f2-bbb9-a6a0b499fa73",
   "metadata": {},
   "source": [
    "#### Anàlisi Resultats"
   ]
  },
  {
   "cell_type": "markdown",
   "id": "337ef557-79ba-473e-bb0d-6b1a76898748",
   "metadata": {},
   "source": [
    "Amb les qualitats dividides en 3, les mostres de cada valor son majors i per tant les prediccions son més acertades com podem veure.\n",
    "Encara així podem veure que en el cas de vins bons, al tenir un número de mostres considerablement inferior als altres dos, sofreix un poc en la predicció i tendeix a estar classificat a una de les altres qualitats per l'algorisme"
   ]
  },
  {
   "cell_type": "markdown",
   "id": "3dee33f4-fa9a-45af-b554-eec24d9b56e9",
   "metadata": {},
   "source": [
    "## Perceptró"
   ]
  },
  {
   "cell_type": "code",
   "execution_count": 23,
   "id": "da40ccca-13ad-4439-84c5-d727bee3abae",
   "metadata": {},
   "outputs": [
    {
     "name": "stdout",
     "output_type": "stream",
     "text": [
      "              precision    recall  f1-score   support\n",
      "\n",
      "          bo       0.45      0.31      0.37       421\n",
      "      dolent       0.67      0.60      0.63       785\n",
      "       mitja       0.51      0.63      0.57       939\n",
      "\n",
      "    accuracy                           0.56      2145\n",
      "   macro avg       0.54      0.51      0.52      2145\n",
      "weighted avg       0.56      0.56      0.55      2145\n",
      "\n"
     ]
    }
   ],
   "source": [
    "from sklearn.linear_model import Perceptron\n",
    "clf = Perceptron(random_state=0).fit(X_train, y_train)\n",
    "y_hat = clf.predict(X_test)\n",
    "print(classification_report(y_test, y_hat,zero_division=0))\n"
   ]
  },
  {
   "cell_type": "markdown",
   "id": "b283cc11-22cb-4f6b-9c6e-390bbf776894",
   "metadata": {},
   "source": [
    "#### Anàlisi Resultats"
   ]
  },
  {
   "cell_type": "markdown",
   "id": "0d0cf299-cf11-4dc3-ab5f-86f2e560af27",
   "metadata": {},
   "source": [
    "Amb el canvi de qualitats, podem veure que el perceptró se iguala un poc més a la regresió logística, i per tant ha estat mes beneficiat per el canvi."
   ]
  },
  {
   "cell_type": "markdown",
   "id": "70c70ca2-5c20-4191-b0e0-3889b515984b",
   "metadata": {},
   "source": [
    "## Random Forest"
   ]
  },
  {
   "cell_type": "code",
   "execution_count": 24,
   "id": "395f04da-a9f8-4229-ba4f-e4f8a6a29dc4",
   "metadata": {},
   "outputs": [
    {
     "name": "stdout",
     "output_type": "stream",
     "text": [
      "              precision    recall  f1-score   support\n",
      "\n",
      "          bo       0.75      0.56      0.64       421\n",
      "      dolent       0.73      0.75      0.74       785\n",
      "       mitja       0.65      0.71      0.68       939\n",
      "\n",
      "    accuracy                           0.70      2145\n",
      "   macro avg       0.71      0.67      0.69      2145\n",
      "weighted avg       0.70      0.70      0.70      2145\n",
      "\n"
     ]
    }
   ],
   "source": [
    "from sklearn.ensemble import RandomForestClassifier\n",
    "clf = RandomForestClassifier(random_state=0).fit(X_train, y_train)\n",
    "y_hat = clf.predict(X_test)\n",
    "print(classification_report(y_test, y_hat,zero_division=0))\n",
    "#El Random Forest sigue teniendo unos resultados bastante buenos pero es el que mejora menos respecto al cambio."
   ]
  },
  {
   "cell_type": "markdown",
   "id": "d2f45793-e0fa-4cda-9412-d2da60566618",
   "metadata": {},
   "source": [
    "#### Anàlisi Resultats"
   ]
  },
  {
   "cell_type": "markdown",
   "id": "b3fd1ec0-3992-41ed-b920-0f21a89b4d99",
   "metadata": {},
   "source": [
    "El Random Forest segueix tenguent els millors resultats, però es el que menys millora amb el canvi, això es degut a que el canvi fa que les mostres de cada un aumentin, i el que feia destacar més a l'algorisme era el fet de que acertaba molt en les mostres de menys tamany."
   ]
  },
  {
   "cell_type": "markdown",
   "id": "09f3c99c-9f66-4313-a3ec-8ce5eef58ff8",
   "metadata": {},
   "source": [
    "# Conclusions"
   ]
  },
  {
   "cell_type": "markdown",
   "id": "01a3073f-07ed-4acd-8737-a5a5771291a9",
   "metadata": {},
   "source": [
    "Podem concluir llavors que a mesura que aumenta el nombre de mostres, les prediccions son més precises, i que quan mes proporcionals siguin el nombre de mostres entre cada conjunt, millor.\n",
    "També podem dir que l'algorisme de Random Forest es el que presenta uns millor resultats degut a la seva capacitat per tenir en compte mostres més petites, i que degut a aquesta ventatja es també el que menys es favoreix d'una reducció a 3 qualitats, encara que també millora"
   ]
  },
  {
   "cell_type": "markdown",
   "id": "62943322-9762-472d-a960-b4153cbb350b",
   "metadata": {},
   "source": [
    "# Apartat B\n",
    "En aquest apartat intentarem fer una criba de dades, agafant només aquelles que son més relevants per a la predicció de la qualitat."
   ]
  },
  {
   "cell_type": "code",
   "execution_count": 106,
   "id": "87f01093-d934-4064-a232-f58888fc28a3",
   "metadata": {},
   "outputs": [
    {
     "data": {
      "text/html": [
       "<div>\n",
       "<style scoped>\n",
       "    .dataframe tbody tr th:only-of-type {\n",
       "        vertical-align: middle;\n",
       "    }\n",
       "\n",
       "    .dataframe tbody tr th {\n",
       "        vertical-align: top;\n",
       "    }\n",
       "\n",
       "    .dataframe thead th {\n",
       "        text-align: right;\n",
       "    }\n",
       "</style>\n",
       "<table border=\"1\" class=\"dataframe\">\n",
       "  <thead>\n",
       "    <tr style=\"text-align: right;\">\n",
       "      <th></th>\n",
       "      <th>fixed acidity</th>\n",
       "      <th>volatile acidity</th>\n",
       "      <th>citric acid</th>\n",
       "      <th>residual sugar</th>\n",
       "      <th>chlorides</th>\n",
       "      <th>free sulfur dioxide</th>\n",
       "      <th>total sulfur dioxide</th>\n",
       "      <th>density</th>\n",
       "      <th>pH</th>\n",
       "      <th>sulphates</th>\n",
       "      <th>alcohol</th>\n",
       "      <th>quality</th>\n",
       "      <th>type</th>\n",
       "    </tr>\n",
       "  </thead>\n",
       "  <tbody>\n",
       "    <tr>\n",
       "      <th>0</th>\n",
       "      <td>7.0</td>\n",
       "      <td>0.27</td>\n",
       "      <td>0.36</td>\n",
       "      <td>20.7</td>\n",
       "      <td>0.045</td>\n",
       "      <td>45.0</td>\n",
       "      <td>170.0</td>\n",
       "      <td>1.0010</td>\n",
       "      <td>3.00</td>\n",
       "      <td>0.45</td>\n",
       "      <td>8.8</td>\n",
       "      <td>6</td>\n",
       "      <td>blanc</td>\n",
       "    </tr>\n",
       "    <tr>\n",
       "      <th>1</th>\n",
       "      <td>6.3</td>\n",
       "      <td>0.30</td>\n",
       "      <td>0.34</td>\n",
       "      <td>1.6</td>\n",
       "      <td>0.049</td>\n",
       "      <td>14.0</td>\n",
       "      <td>132.0</td>\n",
       "      <td>0.9940</td>\n",
       "      <td>3.30</td>\n",
       "      <td>0.49</td>\n",
       "      <td>9.5</td>\n",
       "      <td>6</td>\n",
       "      <td>blanc</td>\n",
       "    </tr>\n",
       "    <tr>\n",
       "      <th>2</th>\n",
       "      <td>8.1</td>\n",
       "      <td>0.28</td>\n",
       "      <td>0.40</td>\n",
       "      <td>6.9</td>\n",
       "      <td>0.050</td>\n",
       "      <td>30.0</td>\n",
       "      <td>97.0</td>\n",
       "      <td>0.9951</td>\n",
       "      <td>3.26</td>\n",
       "      <td>0.44</td>\n",
       "      <td>10.1</td>\n",
       "      <td>6</td>\n",
       "      <td>blanc</td>\n",
       "    </tr>\n",
       "    <tr>\n",
       "      <th>3</th>\n",
       "      <td>7.2</td>\n",
       "      <td>0.23</td>\n",
       "      <td>0.32</td>\n",
       "      <td>8.5</td>\n",
       "      <td>0.058</td>\n",
       "      <td>47.0</td>\n",
       "      <td>186.0</td>\n",
       "      <td>0.9956</td>\n",
       "      <td>3.19</td>\n",
       "      <td>0.40</td>\n",
       "      <td>9.9</td>\n",
       "      <td>6</td>\n",
       "      <td>blanc</td>\n",
       "    </tr>\n",
       "    <tr>\n",
       "      <th>4</th>\n",
       "      <td>7.2</td>\n",
       "      <td>0.23</td>\n",
       "      <td>0.32</td>\n",
       "      <td>8.5</td>\n",
       "      <td>0.058</td>\n",
       "      <td>47.0</td>\n",
       "      <td>186.0</td>\n",
       "      <td>0.9956</td>\n",
       "      <td>3.19</td>\n",
       "      <td>0.40</td>\n",
       "      <td>9.9</td>\n",
       "      <td>6</td>\n",
       "      <td>blanc</td>\n",
       "    </tr>\n",
       "  </tbody>\n",
       "</table>\n",
       "</div>"
      ],
      "text/plain": [
       "   fixed acidity  volatile acidity  citric acid  residual sugar  chlorides  \\\n",
       "0            7.0              0.27         0.36            20.7      0.045   \n",
       "1            6.3              0.30         0.34             1.6      0.049   \n",
       "2            8.1              0.28         0.40             6.9      0.050   \n",
       "3            7.2              0.23         0.32             8.5      0.058   \n",
       "4            7.2              0.23         0.32             8.5      0.058   \n",
       "\n",
       "   free sulfur dioxide  total sulfur dioxide  density    pH  sulphates  \\\n",
       "0                 45.0                 170.0   1.0010  3.00       0.45   \n",
       "1                 14.0                 132.0   0.9940  3.30       0.49   \n",
       "2                 30.0                  97.0   0.9951  3.26       0.44   \n",
       "3                 47.0                 186.0   0.9956  3.19       0.40   \n",
       "4                 47.0                 186.0   0.9956  3.19       0.40   \n",
       "\n",
       "   alcohol  quality   type  \n",
       "0      8.8        6  blanc  \n",
       "1      9.5        6  blanc  \n",
       "2     10.1        6  blanc  \n",
       "3      9.9        6  blanc  \n",
       "4      9.9        6  blanc  "
      ]
     },
     "execution_count": 106,
     "metadata": {},
     "output_type": "execute_result"
    }
   ],
   "source": [
    "vins.head()"
   ]
  },
  {
   "cell_type": "markdown",
   "id": "b0990cd6-4201-4ac4-8c26-aaef6581b81b",
   "metadata": {},
   "source": [
    "Transformam la columna type en valors numerics, on blanc=0 i tint=1."
   ]
  },
  {
   "cell_type": "code",
   "execution_count": 107,
   "id": "5aa09223-16b7-4671-9dc0-7c05d14d86a1",
   "metadata": {},
   "outputs": [],
   "source": [
    "label_encoder = LabelEncoder()\n",
    "vins[\"type\"] = label_encoder.fit_transform(vins[\"type\"])"
   ]
  },
  {
   "cell_type": "markdown",
   "id": "3e890f44-f1a7-4bf4-bf41-4ec902aeb9e3",
   "metadata": {},
   "source": [
    "## Tecniques Utilitzades"
   ]
  },
  {
   "cell_type": "markdown",
   "id": "d0d462cf-003c-4d78-a84e-96a0370f44b9",
   "metadata": {},
   "source": [
    "### Taula de correlacions"
   ]
  },
  {
   "cell_type": "markdown",
   "id": "4d02d7c1-a971-4ab0-a5d4-2d2cf3c9c832",
   "metadata": {},
   "source": [
    "Feim i mostram la taula de correlació entre les caracteristiques dels vins"
   ]
  },
  {
   "cell_type": "code",
   "execution_count": 110,
   "id": "da987453-5ee1-41c4-b6e7-9e285c9dd661",
   "metadata": {},
   "outputs": [
    {
     "data": {
      "text/plain": [
       "<AxesSubplot:>"
      ]
     },
     "execution_count": 110,
     "metadata": {},
     "output_type": "execute_result"
    },
    {
     "data": {
      "image/png": "[encoded data removed]",
      "text/plain": [
       "<Figure size 720x720 with 2 Axes>"
      ]
     },
     "metadata": {
      "needs_background": "light"
     },
     "output_type": "display_data"
    }
   ],
   "source": [
    "corr_df = vins.corr()\n",
    "plt.figure(figsize=(10,10))\n",
    "sns.heatmap(corr_df, annot=True)"
   ]
  },
  {
   "cell_type": "markdown",
   "id": "129cb79f-56b1-4888-bebb-bb684e559d89",
   "metadata": {},
   "source": [
    "Ara llevam les columnes que tenen menys relació amb la qualitatístiqu. Decidim que totes les caracteres que tenguin una correlació dins (-0.1,0.1) no son necessàries. Hem triat aquest valor ja que l'objectiu es tenir encara varietat per els possibles diferents casos, pero també ho es llevar dades el que fan es molestar a l'hora de prediu-re una qualitat, ja que els algorismes de predicció li donen importància al PH per exemple, quan el valor d'aquest no influeix en la qualitat del vi, i per tant fa que es desvirtuin les prediccions de la qualitat."
   ]
  },
  {
   "cell_type": "code",
   "execution_count": 120,
   "id": "5eb82ce8-8f5f-4807-9070-52e5a140a33b",
   "metadata": {},
   "outputs": [
    {
     "data": {
      "text/plain": [
       "['fixed acidity',\n",
       " 'citric acid',\n",
       " 'residual sugar',\n",
       " 'free sulfur dioxide',\n",
       " 'total sulfur dioxide',\n",
       " 'pH',\n",
       " 'sulphates']"
      ]
     },
     "execution_count": 120,
     "metadata": {},
     "output_type": "execute_result"
    }
   ],
   "source": [
    "columns_low_related = list(corr_df[[\"quality\"]][(corr_df > -0.1) & (corr_df < 0.1)].dropna().index)\n",
    "columns_low_related"
   ]
  },
  {
   "cell_type": "markdown",
   "id": "712be32b-d846-4bb8-84dd-4856549c6809",
   "metadata": {},
   "source": [
    "Mostram una altra vegada la taula de correlacions, pero ara amb les columnes menys rellevants a la qualitat llevades."
   ]
  },
  {
   "cell_type": "code",
   "execution_count": 121,
   "id": "654e21e6-0ed0-4d51-ad5d-f6efcdd67b94",
   "metadata": {},
   "outputs": [
    {
     "data": {
      "text/plain": [
       "<AxesSubplot:>"
      ]
     },
     "execution_count": 121,
     "metadata": {},
     "output_type": "execute_result"
    },
    {
     "data": {
      "image/png": "[encoded data removed]",
      "text/plain": [
       "<Figure size 720x720 with 2 Axes>"
      ]
     },
     "metadata": {
      "needs_background": "light"
     },
     "output_type": "display_data"
    }
   ],
   "source": [
    "features = [column for column in vins.columns if column not in columns_low_related]\n",
    "plt.figure(figsize=(10,10))\n",
    "sns.heatmap(vins[features].corr(), annot=True)"
   ]
  },
  {
   "cell_type": "markdown",
   "id": "5246951a-ceb5-496b-b5cb-1e501b2e79a0",
   "metadata": {},
   "source": [
    "## Divisió Train/Test"
   ]
  },
  {
   "cell_type": "markdown",
   "id": "b92060ea-2b9e-4011-9586-13bb5367ffc2",
   "metadata": {},
   "source": [
    "Asignam a 'y' la columna de \"quality\" y a 'x' les altres. Ficam el 67% de los valors a Xtrain/Ytrain que seran els que utilitzarem per \"entrenar\" l'algorisme\n",
    "L'altre 33% serà el que intentarem prediur-re amb l'algorisme"
   ]
  },
  {
   "cell_type": "code",
   "execution_count": 122,
   "id": "0753ccac-9419-416e-b902-1497fbcf8b36",
   "metadata": {},
   "outputs": [],
   "source": [
    "y = vins[\"quality\"]\n",
    "X = vins.drop([\"quality\"], axis=1)\n",
    "\n",
    "X_train, X_test, y_train, y_test = train_test_split(X, y, test_size=0.33, random_state=42)"
   ]
  },
  {
   "cell_type": "markdown",
   "id": "f3593da7-405c-46de-b66a-fed949e7d9c5",
   "metadata": {},
   "source": [
    "Escalam les dades de X. Anteriorment  ja hem fet un LabelEncoder sobre la variable categórica"
   ]
  },
  {
   "cell_type": "code",
   "execution_count": 123,
   "id": "87dd0143-d530-4f96-bf6d-66a88efaa507",
   "metadata": {},
   "outputs": [],
   "source": [
    "min_max_scaler = preprocessing.MinMaxScaler()\n",
    "\n",
    "X_train = min_max_scaler.fit_transform(X_train)\n",
    "X_test = min_max_scaler.transform(X_test)"
   ]
  },
  {
   "cell_type": "code",
   "execution_count": 124,
   "id": "bd6905b6-c353-4c7f-a3f3-23eac7f9e0c4",
   "metadata": {},
   "outputs": [
    {
     "data": {
      "text/plain": [
       "array([0.23966942, 0.12      , 0.18072289, 0.03870968, 0.05175292,\n",
       "       0.16494845, 0.31900139, 0.3137678 , 0.61016949, 0.21714286,\n",
       "       0.31884058, 0.        ])"
      ]
     },
     "execution_count": 124,
     "metadata": {},
     "output_type": "execute_result"
    }
   ],
   "source": [
    "# Exemple del primer registre\n",
    "X_train[0]"
   ]
  },
  {
   "cell_type": "markdown",
   "id": "b7e030e4-5365-4c5a-8d00-3acb2ced6b41",
   "metadata": {},
   "source": [
    "# Classificació «9 qualitats»"
   ]
  },
  {
   "cell_type": "markdown",
   "id": "be320581-e536-432e-bbed-bfa61e60446b",
   "metadata": {},
   "source": [
    "## Regresió Logística"
   ]
  },
  {
   "cell_type": "code",
   "execution_count": null,
   "id": "f007b90e-7b14-4c39-9776-d1214410ba65",
   "metadata": {},
   "outputs": [
    {
     "name": "stdout",
     "output_type": "stream",
     "text": [
      "              precision    recall  f1-score   support\n",
      "\n",
      "           3       0.00      0.00      0.00         7\n",
      "           4       1.00      0.03      0.05        71\n",
      "           5       0.90      1.00      0.95       707\n",
      "           6       0.97      1.00      0.98       939\n",
      "           7       0.85      0.92      0.89       364\n",
      "           8       0.00      0.00      0.00        57\n",
      "\n",
      "    accuracy                           0.92      2145\n",
      "   macro avg       0.62      0.49      0.48      2145\n",
      "weighted avg       0.90      0.92      0.90      2145\n",
      "\n"
     ]
    }
   ],
   "source": [
    "from sklearn.linear_model import LogisticRegression\n",
    "clf = LogisticRegression(random_state=0,max_iter=1000).fit(X_train, y_train)\n",
    "y_hat = clf.predict(X_test)\n",
    "from sklearn.metrics import classification_report\n",
    "print(classification_report(y_test, y_hat,zero_division=0))"
   ]
  },
  {
   "cell_type": "markdown",
   "id": "1806d1e4-7661-4fc6-a08c-1fa62829e43f",
   "metadata": {},
   "source": [
    "#### Anàlisis Resultats"
   ]
  },
  {
   "cell_type": "markdown",
   "id": "d5e2c729-e6e2-4eea-849a-9d7a1f966c3a",
   "metadata": {},
   "source": [
    "Podem veure que el fet d'haver llevat les columnes amb menys correlació ha ajudat bastant a les prediccions. En el cas de la Regresió Logística podem veure com els valors amb més mostres presenten una precisió i un recall quasi perfectes. Encara així podem veure que a la hora de prediu-re dades amb menys mostres segueix presentant els problemes d'abans.\n"
   ]
  },
  {
   "cell_type": "markdown",
   "id": "ad96f36a-17ea-474e-993a-9f8c15feaeb7",
   "metadata": {},
   "source": [
    "## Perceptró"
   ]
  },
  {
   "cell_type": "code",
   "execution_count": null,
   "id": "10f9d909-4ba9-4431-b132-ad13e4b62881",
   "metadata": {},
   "outputs": [
    {
     "name": "stdout",
     "output_type": "stream",
     "text": [
      "              precision    recall  f1-score   support\n",
      "\n",
      "           3       0.00      0.00      0.00         7\n",
      "           4       0.67      0.06      0.10        71\n",
      "           5       0.86      0.97      0.91       707\n",
      "           6       0.75      0.96      0.85       939\n",
      "           7       0.61      0.25      0.35       364\n",
      "           8       0.00      0.00      0.00        57\n",
      "\n",
      "    accuracy                           0.78      2145\n",
      "   macro avg       0.48      0.37      0.37      2145\n",
      "weighted avg       0.74      0.78      0.73      2145\n",
      "\n"
     ]
    }
   ],
   "source": [
    "from sklearn.linear_model import Perceptron\n",
    "clf = Perceptron(random_state=0).fit(X_train, y_train)\n",
    "y_hat = clf.predict(X_test)\n",
    "print(classification_report(y_test, y_hat,zero_division=0))"
   ]
  },
  {
   "cell_type": "markdown",
   "id": "09c5b1a7-1196-4c53-aa65-ff180770f3c0",
   "metadata": {},
   "source": [
    "#### Anàlisis Resultats"
   ]
  },
  {
   "cell_type": "markdown",
   "id": "b9accfc7-f8be-4521-a577-8cfb7588fad7",
   "metadata": {},
   "source": [
    "Amb el Perceptró podem veure que pasa el mateix que amb la Regresió Logística, només que els valors de precisió i recall son més baixos."
   ]
  },
  {
   "cell_type": "markdown",
   "id": "ffae4f94-7596-43f6-bfad-e39b7008663a",
   "metadata": {},
   "source": [
    "## Random Forest"
   ]
  },
  {
   "cell_type": "code",
   "execution_count": null,
   "id": "7067ec56-304f-4f74-b3a7-2ba32c2aab8e",
   "metadata": {},
   "outputs": [
    {
     "name": "stdout",
     "output_type": "stream",
     "text": [
      "              precision    recall  f1-score   support\n",
      "\n",
      "           3       1.00      0.29      0.44         7\n",
      "           4       0.93      1.00      0.97        71\n",
      "           5       1.00      1.00      1.00       707\n",
      "           6       1.00      1.00      1.00       939\n",
      "           7       1.00      1.00      1.00       364\n",
      "           8       1.00      0.98      0.99        57\n",
      "\n",
      "    accuracy                           1.00      2145\n",
      "   macro avg       0.99      0.88      0.90      2145\n",
      "weighted avg       1.00      1.00      1.00      2145\n",
      "\n"
     ]
    }
   ],
   "source": [
    "from sklearn.ensemble import RandomForestClassifier\n",
    "clf = RandomForestClassifier(random_state=0).fit(X_train, y_train)\n",
    "y_hat = clf.predict(X_test)\n",
    "print(classification_report(y_test, y_hat,zero_division=0))"
   ]
  },
  {
   "cell_type": "markdown",
   "id": "b26d944b-552f-4994-82c4-e7d952e80899",
   "metadata": {},
   "source": [
    "#### Anàlisis Resultats"
   ]
  },
  {
   "cell_type": "markdown",
   "id": "a27d173b-ea6e-43c6-80ff-1b34c43794e0",
   "metadata": {},
   "source": [
    "El Random Forest, es el que obte una millora més notable ja que obté una precisió de quasi el 100%, només \n",
    "fallant en la predicció de alguns dels casos amb menys mostres donant 3 com a  4 y qualque 8 com a 7"
   ]
  },
  {
   "cell_type": "markdown",
   "id": "147aebce-56aa-4c74-af7a-564d3aff1a09",
   "metadata": {},
   "source": [
    "# Classificació «3 qualitats»"
   ]
  },
  {
   "cell_type": "markdown",
   "id": "4cb12f12-5235-4af6-9c20-316b0062e25a",
   "metadata": {},
   "source": [
    "#### Preparació dades"
   ]
  },
  {
   "cell_type": "markdown",
   "id": "25494165-269e-4f35-a957-ba46b4efc8ce",
   "metadata": {},
   "source": [
    "Primer preparam les dades per que estiguin dividides en 3 qualitats\n",
    "Classificam la qualitat dels vins en bo(>=7), mitjà(6) i dolent(<=5)"
   ]
  },
  {
   "cell_type": "code",
   "execution_count": null,
   "id": "aa94ee96-51eb-46fc-b2ea-f86ed5af9e51",
   "metadata": {},
   "outputs": [],
   "source": [
    "bins = (2.5,5.5,6.5,9.5)\n",
    "group_names = ['dolent','mitja','bo']\n",
    "vins[\"quality\"] = pd.cut(vins[\"quality\"], bins = bins, labels = group_names)"
   ]
  },
  {
   "cell_type": "markdown",
   "id": "e31ade1c-2d4f-4d17-ae44-8325e1840e8b",
   "metadata": {},
   "source": [
    "Asignam a 'y' la columna de \"quality\" y a 'x' les altres"
   ]
  },
  {
   "cell_type": "code",
   "execution_count": null,
   "id": "c7199ab6-7206-477e-b200-aa0064c79060",
   "metadata": {},
   "outputs": [],
   "source": [
    "y = vins[\"quality\"]\n",
    "X = vinsaux.values "
   ]
  },
  {
   "cell_type": "markdown",
   "id": "850d3fab-9c7e-4019-985a-31d8a1b2fbdd",
   "metadata": {},
   "source": [
    "Escalam les dades de X"
   ]
  },
  {
   "cell_type": "code",
   "execution_count": null,
   "id": "4531e914-05e2-4d70-9c59-256a9018dbcd",
   "metadata": {},
   "outputs": [],
   "source": [
    "from sklearn import preprocessing\n",
    "min_max_scaler = preprocessing.MinMaxScaler()\n",
    "X = min_max_scaler.fit_transform(X)"
   ]
  },
  {
   "cell_type": "markdown",
   "id": "9d8215e3-ba26-474c-a40a-12e0b06b7330",
   "metadata": {},
   "source": [
    "Ficam el 67% de los valors a Xtrain/Ytrain que seran els que utilitzarem per \"entrenar\" l'algorisme\n",
    "L'altre 33% serà el que intentarem prediur-re amb l'algorisme"
   ]
  },
  {
   "cell_type": "code",
   "execution_count": null,
   "id": "15a4bf18-f871-4a8d-9d25-d418a0f445aa",
   "metadata": {},
   "outputs": [],
   "source": [
    "from sklearn.model_selection import train_test_split\n",
    "X_train, X_test, y_train, y_test = train_test_split(\n",
    "    X, y, test_size=0.33, random_state=42)"
   ]
  },
  {
   "cell_type": "markdown",
   "id": "b5e11787-5dc5-4290-b9c2-c7c90ff6c65f",
   "metadata": {},
   "source": [
    "# Regresió Logística"
   ]
  },
  {
   "cell_type": "code",
   "execution_count": null,
   "id": "cec7c624-5b8a-4cc7-891e-6d06da72dad6",
   "metadata": {},
   "outputs": [
    {
     "name": "stdout",
     "output_type": "stream",
     "text": [
      "              precision    recall  f1-score   support\n",
      "\n",
      "          bo       1.00      1.00      1.00       421\n",
      "      dolent       1.00      1.00      1.00       785\n",
      "       mitja       1.00      1.00      1.00       939\n",
      "\n",
      "    accuracy                           1.00      2145\n",
      "   macro avg       1.00      1.00      1.00      2145\n",
      "weighted avg       1.00      1.00      1.00      2145\n",
      "\n"
     ]
    }
   ],
   "source": [
    "from sklearn.linear_model import LogisticRegression\n",
    "clf = LogisticRegression(random_state=0,max_iter=1000).fit(X_train, y_train)\n",
    "y_hat = clf.predict(X_test)\n",
    "from sklearn.metrics import classification_report\n",
    "print(classification_report(y_test, y_hat,zero_division=0))"
   ]
  },
  {
   "cell_type": "markdown",
   "id": "d694caaa-04cb-4998-924e-7ec94fc27724",
   "metadata": {},
   "source": [
    "#### Anàlisi Resultats"
   ]
  },
  {
   "cell_type": "markdown",
   "id": "37e31a89-67af-4abc-914b-e3cbe8ccab59",
   "metadata": {},
   "source": [
    "Veim com dividint les qualitats en tres, ara la presició i recall son del 100% ja que ara te menys mostres de cada categoria que era on tenia el problema abans"
   ]
  },
  {
   "cell_type": "markdown",
   "id": "83616af9-c68d-4e79-a9c6-b2bea7163eae",
   "metadata": {},
   "source": [
    "## Perceptró"
   ]
  },
  {
   "cell_type": "code",
   "execution_count": null,
   "id": "48f53646-fd75-4c0c-9c38-ab9e0e3b83ea",
   "metadata": {},
   "outputs": [
    {
     "name": "stdout",
     "output_type": "stream",
     "text": [
      "              precision    recall  f1-score   support\n",
      "\n",
      "          bo       0.89      1.00      0.94       421\n",
      "      dolent       0.75      1.00      0.86       785\n",
      "       mitja       1.00      0.67      0.80       939\n",
      "\n",
      "    accuracy                           0.86      2145\n",
      "   macro avg       0.88      0.89      0.87      2145\n",
      "weighted avg       0.89      0.86      0.85      2145\n",
      "\n"
     ]
    }
   ],
   "source": [
    "from sklearn.linear_model import Perceptron\n",
    "clf = Perceptron(random_state=0).fit(X_train, y_train)\n",
    "y_hat = clf.predict(X_test)\n",
    "print(classification_report(y_test, y_hat,zero_division=0))"
   ]
  },
  {
   "cell_type": "markdown",
   "id": "160f00ee-bfda-4f94-b516-ddc1d783f21d",
   "metadata": {},
   "source": [
    "#### Anàlisi Resultats"
   ]
  },
  {
   "cell_type": "markdown",
   "id": "eb6ec157-d842-4e0c-94ff-e6e41b7e8dd0",
   "metadata": {},
   "source": [
    "El perceptró millora com podiem esperar, pero no consegueix un 100% de precissiño ni recall degut a que tendeix a valorar massa vins com a mitjans quan no ho son"
   ]
  },
  {
   "cell_type": "markdown",
   "id": "1689d114-c7ac-404a-91b2-70ad010bd0ec",
   "metadata": {},
   "source": [
    "## Random Forest"
   ]
  },
  {
   "cell_type": "code",
   "execution_count": null,
   "id": "4e9ba578-4501-4ddf-ac35-d832aa613b51",
   "metadata": {},
   "outputs": [
    {
     "name": "stdout",
     "output_type": "stream",
     "text": [
      "              precision    recall  f1-score   support\n",
      "\n",
      "          bo       1.00      1.00      1.00       421\n",
      "      dolent       1.00      1.00      1.00       785\n",
      "       mitja       1.00      1.00      1.00       939\n",
      "\n",
      "    accuracy                           1.00      2145\n",
      "   macro avg       1.00      1.00      1.00      2145\n",
      "weighted avg       1.00      1.00      1.00      2145\n",
      "\n"
     ]
    }
   ],
   "source": [
    "from sklearn.ensemble import RandomForestClassifier\n",
    "clf = RandomForestClassifier(random_state=0).fit(X_train, y_train)\n",
    "y_hat = clf.predict(X_test)\n",
    "print(classification_report(y_test, y_hat,zero_division=0))"
   ]
  },
  {
   "cell_type": "markdown",
   "id": "14632455-5ddf-4cae-8cec-e0e279564604",
   "metadata": {},
   "source": [
    "#### Anàlisi Resultats"
   ]
  },
  {
   "cell_type": "markdown",
   "id": "857dfcb7-dc9b-4d0b-89a5-2d4f6d273e86",
   "metadata": {},
   "source": [
    "Com podiem esperar l'algorisme del Random Forest consegueix una presició i un Recall del 100%, ja que quasi era perfecte amb la divisió de 9 qualitats i ara els llocs on tenia problemes estan agrupats en mateixes categories (3 i 4 dolents i 7 i 8 bons)."
   ]
  },
  {
   "cell_type": "markdown",
   "id": "36370533-23f8-43bd-a4b5-50740fc1a379",
   "metadata": {},
   "source": [
    "# Conclusions"
   ]
  },
  {
   "cell_type": "markdown",
   "id": "e769f25a-360b-4e32-bcba-9e7a6d753545",
   "metadata": {},
   "source": [
    "Hem pogut veure que el fet de llevar les dades irrellevants ha ajudat als 3 algorismes a tenir unes millors prediccions, això es degut a que quan fan les prediccions els algorismes donen la mateixa importància a totes les dades, i si aquestes no influeixen en el valor que s'està predint, llavors l'únic que fan aquestes dades es molestar a la hora de prediu-re les qualitats."
   ]
  }
 ],
 "metadata": {
  "kernelspec": {
   "display_name": "Python 3 (ipykernel)",
   "language": "python",
   "name": "python3"
  },
  "language_info": {
   "codemirror_mode": {
    "name": "ipython",
    "version": 3
   },
   "file_extension": ".py",
   "mimetype": "text/x-python",
   "name": "python",
   "nbconvert_exporter": "python",
   "pygments_lexer": "ipython3",
   "version": "3.9.7"
  }
 },
 "nbformat": 4,
 "nbformat_minor": 5
}
